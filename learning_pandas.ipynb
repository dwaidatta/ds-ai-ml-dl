{
 "cells": [
  {
   "cell_type": "markdown",
   "metadata": {},
   "source": [
    "# Learning Pandas\n",
    "Pandas is a Python library for data manipulation and analysis. It is built on top of NumPy and provides powerful tools to work with structured data (like tables in Excel or SQL).\n",
    "\n",
    "It allows you to:\n",
    "\n",
    "- Load, clean, and process datasets\n",
    "- Perform exploratory data analysis (EDA)\n",
    "- Handle missing data efficiently\n",
    "- Merge, group, and reshape datasets\n",
    "- Key Data Structures in Pandas\n",
    "\n",
    "Series: A one-dimensional array with labels (like a column in a spreadsheet)\n",
    "\n",
    "DataFrame: A two-dimensional table-like data structure (like a whole spreadsheet)."
   ]
  },
  {
   "cell_type": "markdown",
   "metadata": {},
   "source": [
    "## Basics"
   ]
  },
  {
   "cell_type": "code",
   "execution_count": null,
   "metadata": {},
   "outputs": [],
   "source": [
    "# installing pandas\n",
    "%pip install pandas\n",
    "\n",
    "# \"!pip install\" also works"
   ]
  },
  {
   "cell_type": "code",
   "execution_count": 2,
   "metadata": {},
   "outputs": [
    {
     "name": "stdout",
     "output_type": "stream",
     "text": [
      "2.2.3\n"
     ]
    }
   ],
   "source": [
    "# importing\n",
    "import pandas as pd\n",
    "print(pd.__version__)"
   ]
  },
  {
   "cell_type": "code",
   "execution_count": 3,
   "metadata": {},
   "outputs": [
    {
     "name": "stdout",
     "output_type": "stream",
     "text": [
      "0    10\n",
      "1    20\n",
      "2    30\n",
      "3    40\n",
      "4    50\n",
      "dtype: int64\n"
     ]
    }
   ],
   "source": [
    "# series data - 1D data structure\n",
    "data = [10, 20, 30, 40, 50]\n",
    "series1 = pd.Series(data) # creating series from list\n",
    "print(series1)"
   ]
  },
  {
   "cell_type": "markdown",
   "metadata": {},
   "source": [
    "The first Series automatically gets a default index (0, 1, 2, ...)"
   ]
  },
  {
   "cell_type": "code",
   "execution_count": 4,
   "metadata": {},
   "outputs": [
    {
     "name": "stdout",
     "output_type": "stream",
     "text": [
      "a    10\n",
      "b    20\n",
      "c    30\n",
      "d    40\n",
      "e    50\n",
      "dtype: int64\n",
      "11    10\n",
      "22    20\n",
      "33    30\n",
      "44    40\n",
      "55    50\n",
      "dtype: int64\n"
     ]
    }
   ],
   "source": [
    "# custom label in series\n",
    "series1 = pd.Series(data, index=['a', 'b', 'c', 'd', 'e'])\n",
    "print(series1)\n",
    "\n",
    "index = [11, 22, 33, 44, 55]\n",
    "series1 = pd.Series(data, index=index)\n",
    "print(series1)"
   ]
  },
  {
   "cell_type": "code",
   "execution_count": 5,
   "metadata": {},
   "outputs": [
    {
     "name": "stdout",
     "output_type": "stream",
     "text": [
      "     Name  Age  Salary\n",
      "0  Anjali   24   50000\n",
      "1   Priya   26   60000\n",
      "2   Rahul   20   20000\n"
     ]
    }
   ],
   "source": [
    "# dataframe - 2D data structure\n",
    "data = {'Name': ['Anjali', 'Priya', 'Rahul'],\n",
    "        'Age': [24, 26, 20],\n",
    "        'Salary':[50000, 60000, 20000]}\n",
    "\n",
    "df = pd.DataFrame(data) # creating dataframe from dictionary\n",
    "print(df)"
   ]
  },
  {
   "cell_type": "code",
   "execution_count": 6,
   "metadata": {},
   "outputs": [
    {
     "name": "stdout",
     "output_type": "stream",
     "text": [
      "[1 2 3 4 5]\n",
      "0    1\n",
      "1    2\n",
      "2    3\n",
      "3    4\n",
      "4    5\n",
      "dtype: int32\n"
     ]
    }
   ],
   "source": [
    "# series from numpy array\n",
    "import numpy as np\n",
    "\n",
    "arr = np.array([1, 2, 3, 4, 5]) # creating numpy array\n",
    "series = pd.Series(arr) # series data from numpy 1D array\n",
    "\n",
    "print(arr)\n",
    "print(series)"
   ]
  },
  {
   "cell_type": "markdown",
   "metadata": {},
   "source": [
    "## Exploring and Inspecting Data"
   ]
  },
  {
   "cell_type": "code",
   "execution_count": 7,
   "metadata": {},
   "outputs": [
    {
     "name": "stdout",
     "output_type": "stream",
     "text": [
      "     Name  Age  Salary\n",
      "0  Anjali   24   50000\n",
      "1   Priya   26   60000\n",
      "2   Rahul   20   20000\n"
     ]
    }
   ],
   "source": [
    "# how the data looks like\n",
    "data = {'Name': ['Anjali', 'Priya', 'Rahul'],\n",
    "        'Age': [24, 26, 20],\n",
    "        'Salary':[50000, 60000, 20000]}\n",
    "\n",
    "df = pd.DataFrame(data)\n",
    "print(df)"
   ]
  },
  {
   "cell_type": "code",
   "execution_count": 8,
   "metadata": {},
   "outputs": [
    {
     "name": "stdout",
     "output_type": "stream",
     "text": [
      "     Name  Age  Salary\n",
      "0  Anjali   24   50000\n",
      "1   Priya   26   60000\n",
      "2   Rahul   20   20000\n",
      "     Name  Age  Salary\n",
      "0  Anjali   24   50000\n",
      "1   Priya   26   60000\n",
      "    Name  Age  Salary\n",
      "1  Priya   26   60000\n",
      "2  Rahul   20   20000\n"
     ]
    }
   ],
   "source": [
    "# displaying\n",
    "\n",
    "print(df) # entire data\n",
    "print(df.head(2)) # first 2 rows\n",
    "print(df.tail(2)) # last 2 rows"
   ]
  },
  {
   "cell_type": "code",
   "execution_count": 9,
   "metadata": {},
   "outputs": [
    {
     "name": "stdout",
     "output_type": "stream",
     "text": [
      "(3, 3)\n",
      "Index(['Name', 'Age', 'Salary'], dtype='object')\n",
      "\n",
      "\n",
      "Name      object\n",
      "Age        int64\n",
      "Salary     int64\n",
      "dtype: object\n"
     ]
    }
   ],
   "source": [
    "# shapes and columns\n",
    "\n",
    "print(df.shape) # gives no. of rows, no. of cols\n",
    "print(df.columns) # list of column names\n",
    "print('\\n')\n",
    "print(df.dtypes) # data types in each col\n"
   ]
  },
  {
   "cell_type": "code",
   "execution_count": 10,
   "metadata": {},
   "outputs": [
    {
     "name": "stdout",
     "output_type": "stream",
     "text": [
      "             Age        Salary\n",
      "count   3.000000      3.000000\n",
      "mean   23.333333  43333.333333\n",
      "std     3.055050  20816.659995\n",
      "min    20.000000  20000.000000\n",
      "25%    22.000000  35000.000000\n",
      "50%    24.000000  50000.000000\n",
      "75%    25.000000  55000.000000\n",
      "max    26.000000  60000.000000\n",
      "          Name        Age        Salary\n",
      "count        3   3.000000      3.000000\n",
      "unique       3        NaN           NaN\n",
      "top     Anjali        NaN           NaN\n",
      "freq         1        NaN           NaN\n",
      "mean       NaN  23.333333  43333.333333\n",
      "std        NaN   3.055050  20816.659995\n",
      "min        NaN  20.000000  20000.000000\n",
      "25%        NaN  22.000000  35000.000000\n",
      "50%        NaN  24.000000  50000.000000\n",
      "75%        NaN  25.000000  55000.000000\n",
      "max        NaN  26.000000  60000.000000\n"
     ]
    }
   ],
   "source": [
    "# statistics\n",
    "\n",
    "print(df.describe()) # descriptive statistics for numeric cols\n",
    "# note that describe and describe() is different\n",
    "\n",
    "print(df.describe(include='all')) # descriptive statistics for all cols)"
   ]
  },
  {
   "cell_type": "code",
   "execution_count": 11,
   "metadata": {},
   "outputs": [
    {
     "name": "stdout",
     "output_type": "stream",
     "text": [
      "     Name  Age   Salary\n",
      "0  Anjali   24  50000.0\n",
      "1    None   26  60000.0\n",
      "2   Rahul   20      NaN\n",
      "    Name    Age  Salary\n",
      "0  False  False   False\n",
      "1   True  False   False\n",
      "2  False  False    True\n",
      "Name      1\n",
      "Age       0\n",
      "Salary    1\n",
      "dtype: int64\n"
     ]
    }
   ],
   "source": [
    "# missing values\n",
    "\n",
    "data = {'Name': ['Anjali', None, 'Rahul'],\n",
    "        'Age': [24, 26, 20],\n",
    "        'Salary':[50000, 60000, None]}\n",
    "\n",
    "df = pd.DataFrame(data)\n",
    "print(df)\n",
    "\n",
    "print(df.isnull()) # checks for missing values\n",
    "print(df.isnull().sum()) # counts missing values in each col"
   ]
  },
  {
   "cell_type": "markdown",
   "metadata": {},
   "source": [
    "## Selecting and Accessing"
   ]
  },
  {
   "cell_type": "code",
   "execution_count": 12,
   "metadata": {},
   "outputs": [
    {
     "name": "stdout",
     "output_type": "stream",
     "text": [
      "0    24\n",
      "1    26\n",
      "2    20\n",
      "Name: Age, dtype: int64\n"
     ]
    }
   ],
   "source": [
    "print(df['Age']) # accessing Age col"
   ]
  },
  {
   "cell_type": "code",
   "execution_count": 13,
   "metadata": {},
   "outputs": [
    {
     "name": "stdout",
     "output_type": "stream",
     "text": [
      "0    24\n",
      "1    26\n",
      "2    20\n",
      "Name: Age, dtype: int64\n"
     ]
    }
   ],
   "source": [
    "print(df.Age) # dot notation works when col name is simple"
   ]
  },
  {
   "cell_type": "code",
   "execution_count": 14,
   "metadata": {},
   "outputs": [
    {
     "name": "stdout",
     "output_type": "stream",
     "text": [
      "     Name   Salary\n",
      "0  Anjali  50000.0\n",
      "1    None  60000.0\n",
      "2   Rahul      NaN\n",
      "   Age    Name\n",
      "0   24  Anjali\n",
      "1   26    None\n",
      "2   20   Rahul\n"
     ]
    }
   ],
   "source": [
    "print(df[['Name', 'Salary']]) # accessing multiple cols\n",
    "\n",
    "cols = ['Age', 'Name']\n",
    "print(df[cols]) # using the list to access cols"
   ]
  },
  {
   "cell_type": "code",
   "execution_count": 15,
   "metadata": {},
   "outputs": [
    {
     "name": "stdout",
     "output_type": "stream",
     "text": [
      "     Name  Age   Salary\n",
      "0  Anjali   24  50000.0\n",
      "1    None   26  60000.0\n",
      "2   Rahul   20      NaN\n"
     ]
    }
   ],
   "source": [
    "print(df) # checking the DataFrame once"
   ]
  },
  {
   "cell_type": "code",
   "execution_count": 16,
   "metadata": {},
   "outputs": [
    {
     "name": "stdout",
     "output_type": "stream",
     "text": [
      "Name       Anjali\n",
      "Age            24\n",
      "Salary    50000.0\n",
      "Name: 0, dtype: object\n",
      "Name      Rahul\n",
      "Age          20\n",
      "Salary      NaN\n",
      "Name: 2, dtype: object\n"
     ]
    }
   ],
   "source": [
    "# selecting rows\n",
    "\n",
    "print(df.iloc[0]) # first row by position\n",
    "# iloc used for integer based indexing\n",
    "\n",
    "print(df.loc[2]) # first row by label\n",
    "# loc used for label based indexing"
   ]
  },
  {
   "cell_type": "code",
   "execution_count": 17,
   "metadata": {},
   "outputs": [
    {
     "name": "stdout",
     "output_type": "stream",
     "text": [
      "     Name  Age   Salary\n",
      "a  Anjali   24  50000.0\n",
      "b    None   26  60000.0\n",
      "c   Rahul   20      NaN\n"
     ]
    }
   ],
   "source": [
    "data = {'Name': ['Anjali', None, 'Rahul'],\n",
    "        'Age': [24, 26, 20],\n",
    "        'Salary':[50000, 60000, None]}\n",
    "\n",
    "df = pd.DataFrame(data, index=['a', 'b', 'c']) # keeping labels\n",
    "print(df)"
   ]
  },
  {
   "cell_type": "code",
   "execution_count": 18,
   "metadata": {},
   "outputs": [
    {
     "name": "stdout",
     "output_type": "stream",
     "text": [
      "Name         None\n",
      "Age            26\n",
      "Salary    60000.0\n",
      "Name: b, dtype: object\n",
      "Name      Rahul\n",
      "Age          20\n",
      "Salary      NaN\n",
      "Name: c, dtype: object\n"
     ]
    }
   ],
   "source": [
    "# selecting rows again\n",
    "\n",
    "print(df.iloc[1]) # row by position, 1 selects 2nd row\n",
    "\n",
    "# print(df.loc[1]) # gives error\n",
    "\n",
    "print(df.loc['c']) # label based indexing"
   ]
  },
  {
   "cell_type": "markdown",
   "metadata": {},
   "source": [
    "Use `.iloc[]` for integer-based indexing\n",
    "\n",
    "Use `.loc[]` for label-based indexing"
   ]
  },
  {
   "cell_type": "code",
   "execution_count": 19,
   "metadata": {},
   "outputs": [
    {
     "name": "stdout",
     "output_type": "stream",
     "text": [
      "     Name  Age   Salary\n",
      "a  Anjali   24  50000.0\n",
      "b    None   26  60000.0\n",
      "     Name   Salary\n",
      "a  Anjali  50000.0\n",
      "b    None  60000.0\n",
      "c   Rahul      NaN\n"
     ]
    }
   ],
   "source": [
    "# slicing rows and cols\n",
    "\n",
    "print(df.iloc[:2, : ]) # first two rows and all cols\n",
    "\n",
    "print(df.loc['a':'c', ['Name', 'Salary']]) # label based slicing and selecting specific cols"
   ]
  },
  {
   "cell_type": "markdown",
   "metadata": {},
   "source": [
    "## Filtering, Sorting and Modifying Data"
   ]
  },
  {
   "cell_type": "code",
   "execution_count": 20,
   "metadata": {},
   "outputs": [
    {
     "name": "stdout",
     "output_type": "stream",
     "text": [
      "      Name  Age  Salary\n",
      "0   Anjali   24   50000\n",
      "1  Bubbles   26   60000\n",
      "2    Rahul   20   20000\n",
      "3    Priya   27   23000\n",
      "4   Newton   38   44000\n"
     ]
    }
   ],
   "source": [
    "data = {'Name': ['Anjali', 'Bubbles', 'Rahul', 'Priya', 'Newton'],\n",
    "        'Age': [24, 26, 20, 27, 38],\n",
    "        'Salary':[50000, 60000, 20000, 23000, 44000]}\n",
    "\n",
    "df = pd.DataFrame(data) # making sample dataframe\n",
    "print(df)"
   ]
  },
  {
   "cell_type": "code",
   "execution_count": 21,
   "metadata": {},
   "outputs": [
    {
     "name": "stdout",
     "output_type": "stream",
     "text": [
      "      Name  Age  Salary\n",
      "1  Bubbles   26   60000\n",
      "3    Priya   27   23000\n",
      "4   Newton   38   44000\n"
     ]
    }
   ],
   "source": [
    "# filtering\n",
    "\n",
    "filtered_df = df[df[\"Age\"] > 25] # selecting rows where age>25\n",
    "print(filtered_df)"
   ]
  },
  {
   "cell_type": "code",
   "execution_count": 22,
   "metadata": {},
   "outputs": [
    {
     "name": "stdout",
     "output_type": "stream",
     "text": [
      "     Name  Age  Salary\n",
      "3   Priya   27   23000\n",
      "4  Newton   38   44000\n",
      "      Name  Age  Salary\n",
      "1  Bubbles   26   60000\n",
      "2    Rahul   20   20000\n",
      "3    Priya   27   23000\n",
      "4   Newton   38   44000\n"
     ]
    }
   ],
   "source": [
    "# using & (AND) and | (OR)\n",
    "\n",
    "filtered_df  = df[(df['Age'] > 25) & (df['Salary'] <45000)] # using the AND operator\n",
    "print(filtered_df)\n",
    "\n",
    "filtered_df  = df[(df['Age'] > 25) | (df['Age'] < 22)] # using the AND operator\n",
    "print(filtered_df)"
   ]
  },
  {
   "cell_type": "code",
   "execution_count": 23,
   "metadata": {},
   "outputs": [
    {
     "name": "stdout",
     "output_type": "stream",
     "text": [
      "      Name  Age  Salary\n",
      "2    Rahul   20   20000\n",
      "0   Anjali   24   50000\n",
      "1  Bubbles   26   60000\n",
      "3    Priya   27   23000\n",
      "4   Newton   38   44000\n",
      "      Name  Age  Salary\n",
      "2    Rahul   20   20000\n",
      "3    Priya   27   23000\n",
      "4   Newton   38   44000\n",
      "1  Bubbles   26   60000\n",
      "0   Anjali   24   50000\n",
      "      Name  Age  Salary\n",
      "2    Rahul   20   20000\n",
      "0   Anjali   24   50000\n",
      "1  Bubbles   26   60000\n",
      "3    Priya   27   23000\n",
      "4   Newton   38   44000\n"
     ]
    }
   ],
   "source": [
    "# sorting data\n",
    "\n",
    "sorted_df = df.sort_values('Age') # sorting according to Age col\n",
    "print(sorted_df)\n",
    "\n",
    "# descending order of sort using ascending = False parameter\n",
    "\n",
    "sorted_df = df.sort_values('Name', ascending=False) # sorting according to Name col\n",
    "print(sorted_df)\n",
    "\n",
    "sorted_df = df.sort_values(['Age', 'Name'], ascending=[True, False])\n",
    "print(sorted_df)"
   ]
  },
  {
   "cell_type": "code",
   "execution_count": 24,
   "metadata": {},
   "outputs": [
    {
     "name": "stdout",
     "output_type": "stream",
     "text": [
      "      Name  Age  Salary\n",
      "0   Anjali   24   50000\n",
      "1  Bubbles   26   60000\n",
      "2    Rahul   20   20000\n",
      "3    Priya   27   23000\n",
      "4   Newton   38   44000\n",
      "  Employee Name  Age  Annual Salary\n",
      "0        Anjali   24          50000\n",
      "1       Bubbles   26          60000\n",
      "2         Rahul   20          20000\n",
      "3         Priya   27          23000\n",
      "4        Newton   38          44000\n"
     ]
    }
   ],
   "source": [
    "# renaming cols\n",
    "\n",
    "print(df)\n",
    "df_renamed = df.rename(columns={\"Name\": \"Employee Name\", 'Salary': 'Annual Salary'})\n",
    "print(df_renamed)"
   ]
  },
  {
   "cell_type": "code",
   "execution_count": 25,
   "metadata": {},
   "outputs": [
    {
     "name": "stdout",
     "output_type": "stream",
     "text": [
      "      Name  Age  Salary\n",
      "0   Anjali   24   50000\n",
      "1  Bubbles   26   60000\n",
      "2    Rahul   20   20000\n",
      "3    Priya   27   23000\n",
      "4   Newton   38   44000\n",
      "      Name  Age  Salary  Bonus  Net Salary\n",
      "0   Anjali   24   50000  500.0     50500.0\n",
      "1  Bubbles   26   60000  600.0     60600.0\n",
      "2    Rahul   20   20000  200.0     20200.0\n",
      "3    Priya   27   23000  230.0     23230.0\n",
      "4   Newton   38   44000  440.0     44440.0\n"
     ]
    }
   ],
   "source": [
    "# adding a new col\n",
    "\n",
    "data = {'Name': ['Anjali', 'Bubbles', 'Rahul', 'Priya', 'Newton'],\n",
    "        'Age': [24, 26, 20, 27, 38],\n",
    "        'Salary':[50000, 60000, 20000, 23000, 44000]}\n",
    "\n",
    "df = pd.DataFrame(data) # making sample dataframe\n",
    "print(df)\n",
    "\n",
    "df['Bonus'] = df['Salary'] * 0.01 # making new col Bonus as 1% of Salary col\n",
    "df['Net Salary'] = df['Salary'] + df['Bonus'] # making new col based on previous cols\n",
    "\n",
    "print(df)"
   ]
  },
  {
   "cell_type": "code",
   "execution_count": 26,
   "metadata": {},
   "outputs": [
    {
     "name": "stdout",
     "output_type": "stream",
     "text": [
      "      Name  Age  Salary  Bonus  Net Salary\n",
      "0   Anjali   24   60000  500.0     50500.0\n",
      "1  Bubbles   26   70000  600.0     60600.0\n",
      "2    Rahul   20   30000  200.0     20200.0\n",
      "3    Priya   27   33000  230.0     23230.0\n",
      "4   Newton   38   54000  440.0     44440.0\n",
      "      Name  Age  Salary  Bonus  Net Salary\n",
      "0   Anjali   24   60000  600.0     60600.0\n",
      "1  Bubbles   26   70000  700.0     70700.0\n",
      "2    Rahul   20   30000  300.0     30300.0\n",
      "3    Priya   27   33000  330.0     33330.0\n",
      "4   Newton   38   54000  540.0     54540.0\n"
     ]
    }
   ],
   "source": [
    "# modifying existing cols\n",
    "\n",
    "df['Salary'] = df['Salary'] + 10000 # increasing salary by 10000\n",
    "print(df)\n",
    "\n",
    "# updating bonus and net salary\n",
    "\n",
    "df['Bonus'] = df['Salary'] * 0.01 # making new col Bonus as 1% of Salary col\n",
    "df['Net Salary'] = df['Salary'] + df['Bonus'] # making new col based on previous cols\n",
    "\n",
    "print(df)"
   ]
  },
  {
   "cell_type": "code",
   "execution_count": 27,
   "metadata": {},
   "outputs": [
    {
     "name": "stdout",
     "output_type": "stream",
     "text": [
      "      Name  Age  Salary  Bonus  Net Salary\n",
      "0   Anjali   24   60000  600.0     60600.0\n",
      "1  Bubbles   26   70000  700.0     70700.0\n",
      "2    Rahul   20   30000  300.0     30300.0\n",
      "3    Priya   27   33000  330.0     33330.0\n",
      "4   Newton   38   54000  540.0     54540.0\n"
     ]
    }
   ],
   "source": [
    "# dropping rows or cols\n",
    "print(df)"
   ]
  },
  {
   "cell_type": "code",
   "execution_count": 28,
   "metadata": {},
   "outputs": [
    {
     "name": "stdout",
     "output_type": "stream",
     "text": [
      "      Name  Age  Salary  Bonus  Net Salary\n",
      "0   Anjali   24   60000  600.0     60600.0\n",
      "1  Bubbles   26   70000  700.0     70700.0\n",
      "2    Rahul   20   30000  300.0     30300.0\n",
      "3    Priya   27   33000  330.0     33330.0\n",
      "4   Newton   38   54000  540.0     54540.0\n",
      "      Name  Age  Salary  Net Salary\n",
      "0   Anjali   24   60000     60600.0\n",
      "1  Bubbles   26   70000     70700.0\n",
      "2    Rahul   20   30000     30300.0\n",
      "3    Priya   27   33000     33330.0\n",
      "4   Newton   38   54000     54540.0\n"
     ]
    }
   ],
   "source": [
    "# drop col\n",
    "df_dropped = df.drop(columns=['Bonus'])\n",
    "print(df)\n",
    "print(df_dropped)"
   ]
  },
  {
   "cell_type": "code",
   "execution_count": 29,
   "metadata": {},
   "outputs": [
    {
     "name": "stdout",
     "output_type": "stream",
     "text": [
      "      Name  Age  Salary  Bonus  Net Salary\n",
      "0   Anjali   24   60000  600.0     60600.0\n",
      "1  Bubbles   26   70000  700.0     70700.0\n",
      "2    Rahul   20   30000  300.0     30300.0\n",
      "3    Priya   27   33000  330.0     33330.0\n",
      "4   Newton   38   54000  540.0     54540.0\n",
      "     Name  Age  Salary  Bonus  Net Salary\n",
      "0  Anjali   24   60000  600.0     60600.0\n",
      "2   Rahul   20   30000  300.0     30300.0\n",
      "3   Priya   27   33000  330.0     33330.0\n",
      "4  Newton   38   54000  540.0     54540.0\n"
     ]
    }
   ],
   "source": [
    "# drop row by index\n",
    "df_dropped = df.drop(index=1)\n",
    "print(df)\n",
    "print(df_dropped)"
   ]
  },
  {
   "cell_type": "code",
   "execution_count": 30,
   "metadata": {},
   "outputs": [
    {
     "name": "stdout",
     "output_type": "stream",
     "text": [
      "      Name  Age  Salary\n",
      "0   Anjali   24   50000\n",
      "1  Bubbles   26   60000\n",
      "2    Rahul   20   20000\n",
      "3    Priya   27   23000\n",
      "4   Newton   38   44000\n",
      "      Name  Age  Salary  Bonus  Net Salary\n",
      "0   Anjali   24   50000  500.0     50500.0\n",
      "1  Bubbles   26   60000  600.0     60600.0\n",
      "2    Rahul   20   20000  200.0     20200.0\n",
      "3    Priya   27   23000  230.0     23230.0\n",
      "4   Newton   38   44000  440.0     44440.0\n"
     ]
    }
   ],
   "source": [
    "# reinitializing\n",
    "\n",
    "data = {'Name': ['Anjali', 'Bubbles', 'Rahul', 'Priya', 'Newton'],\n",
    "        'Age': [24, 26, 20, 27, 38],\n",
    "        'Salary':[50000, 60000, 20000, 23000, 44000]}\n",
    "\n",
    "df = pd.DataFrame(data) # making sample dataframe\n",
    "print(df)\n",
    "\n",
    "df['Bonus'] = df['Salary'] * 0.01 # making new col Bonus as 1% of Salary col\n",
    "df['Net Salary'] = df['Salary'] + df['Bonus'] # making new col based on previous cols\n",
    "\n",
    "print(df)"
   ]
  },
  {
   "cell_type": "code",
   "execution_count": 31,
   "metadata": {},
   "outputs": [
    {
     "name": "stdout",
     "output_type": "stream",
     "text": [
      "         Age  Salary  Bonus  Net Salary\n",
      "Name                                   \n",
      "Anjali    24   50000  500.0     50500.0\n",
      "Bubbles   26   60000  600.0     60600.0\n",
      "Rahul     20   20000  200.0     20200.0\n",
      "Priya     27   23000  230.0     23230.0\n",
      "Newton    38   44000  440.0     44440.0\n"
     ]
    }
   ],
   "source": [
    "# setting Name as index\n",
    "df_indexed = df.set_index('Name')\n",
    "print(df_indexed)"
   ]
  },
  {
   "cell_type": "code",
   "execution_count": 32,
   "metadata": {},
   "outputs": [
    {
     "name": "stdout",
     "output_type": "stream",
     "text": [
      "      Name  Age  Salary  Bonus  Net Salary\n",
      "0   Anjali   24   50000  500.0     50500.0\n",
      "1  Bubbles   26   60000  600.0     60600.0\n",
      "2    Rahul   20   20000  200.0     20200.0\n",
      "3    Priya   27   23000  230.0     23230.0\n",
      "4   Newton   38   44000  440.0     44440.0\n"
     ]
    }
   ],
   "source": [
    "# resetting the index\n",
    "\n",
    "df_reset = df_indexed.reset_index(drop=False) # keep Name as col\n",
    "print(df_reset)"
   ]
  },
  {
   "cell_type": "code",
   "execution_count": 33,
   "metadata": {},
   "outputs": [
    {
     "name": "stdout",
     "output_type": "stream",
     "text": [
      "   Age  Salary  Bonus  Net Salary\n",
      "0   24   50000  500.0     50500.0\n",
      "1   26   60000  600.0     60600.0\n",
      "2   20   20000  200.0     20200.0\n",
      "3   27   23000  230.0     23230.0\n",
      "4   38   44000  440.0     44440.0\n"
     ]
    }
   ],
   "source": [
    "# resetting the index\n",
    "\n",
    "df_reset = df_indexed.reset_index(drop=True) # drop Name as col\n",
    "print(df_reset)"
   ]
  },
  {
   "cell_type": "markdown",
   "metadata": {},
   "source": [
    "## CSV"
   ]
  },
  {
   "cell_type": "code",
   "execution_count": 34,
   "metadata": {},
   "outputs": [],
   "source": [
    "# pandas.read_csv(filepath_or_buffer, sep=',', header='infer', names=None, index_col=None, usecols=None, dtype=None, engine='python', encoding=None, ... )"
   ]
  },
  {
   "cell_type": "code",
   "execution_count": 35,
   "metadata": {},
   "outputs": [
    {
     "name": "stdout",
     "output_type": "stream",
     "text": [
      "  Employee ID           Name Department  Age  Salary Joining Date  \\\n",
      "0      E00001  Daniel Miller  Marketing   37  120145   2021-08-19   \n",
      "1      E00002  Robert Taylor      Sales   39   37839   2015-02-06   \n",
      "2      E00003      Jose Lane    Finance   22  121732   2022-06-10   \n",
      "3      E00004  William Watts      Sales   22   68457   2018-08-16   \n",
      "4      E00005     Tracy Ward      Sales   22  146584   2024-02-22   \n",
      "\n",
      "   Performance Score  \n",
      "0                  7  \n",
      "1                  2  \n",
      "2                  3  \n",
      "3                  2  \n",
      "4                  5  \n"
     ]
    }
   ],
   "source": [
    "# reading from csv file\n",
    "\n",
    "df = pd.read_csv('employee_data.csv')\n",
    "print(df.head()) # printing first 5 rows"
   ]
  },
  {
   "cell_type": "code",
   "execution_count": 36,
   "metadata": {},
   "outputs": [],
   "source": [
    "# DataFrame.to_csv(path_or_buffer, sep=',', index=True, header=True, mode='w', encoding=None, compression=None, ... )"
   ]
  },
  {
   "cell_type": "code",
   "execution_count": 37,
   "metadata": {},
   "outputs": [],
   "source": [
    "# writing to csv file\n",
    "\n",
    "df.to_csv('copy_employee_data.csv', index=False) # do not include row indices"
   ]
  },
  {
   "cell_type": "code",
   "execution_count": 38,
   "metadata": {},
   "outputs": [
    {
     "name": "stdout",
     "output_type": "stream",
     "text": [
      "   E10000      William Blake    Finance  27  131484  2016-03-17  1\n",
      "0  E10001  Michael Maldonado         IT  58  106088  2015-10-11  4\n",
      "1  E10002   Samantha Hoffman  Marketing  43   70584  2017-08-27  2\n",
      "2  E10003        Heather Lee      Sales  28   80296  2022-01-07  5\n",
      "3  E10004       Sarah Nelson  Marketing  51   46482  2015-04-15  4\n",
      "4  E10005     Steven Sanders  Marketing  31  148337  2015-12-20  1\n"
     ]
    }
   ],
   "source": [
    "# skip rows\n",
    "\n",
    "df = pd.read_csv('employee_data.csv', skiprows=10000)\n",
    "print(df.head())"
   ]
  },
  {
   "cell_type": "code",
   "execution_count": 39,
   "metadata": {},
   "outputs": [
    {
     "name": "stdout",
     "output_type": "stream",
     "text": [
      "  Employee ID           Name Department  Age  Salary Joining Date  \\\n",
      "0      E00001  Daniel Miller  Marketing   37  120145   2021-08-19   \n",
      "1      E00002  Robert Taylor      Sales   39   37839   2015-02-06   \n",
      "2      E00003      Jose Lane    Finance   22  121732   2022-06-10   \n",
      "3      E00004  William Watts      Sales   22   68457   2018-08-16   \n",
      "4      E00005     Tracy Ward      Sales   22  146584   2024-02-22   \n",
      "\n",
      "   Performance Score  \n",
      "0                  7  \n",
      "1                  2  \n",
      "2                  3  \n",
      "3                  2  \n",
      "4                  5   \n",
      "\n",
      "     Employee ID            Name Department  Age  Salary Joining Date  \\\n",
      "1000      E01001   Sarah Gregory  Marketing   47  129754   2023-09-14   \n",
      "1001      E01002  Stephen Warren  Marketing   32   87566   2023-09-22   \n",
      "1002      E01003     Wendy Weeks  Marketing   39   70692   2015-12-25   \n",
      "1003      E01004     Lisa Fields  Marketing   26  144358   2016-04-21   \n",
      "1004      E01005   Ryan Thompson      Sales   37   53442   2021-09-19   \n",
      "\n",
      "      Performance Score  \n",
      "1000                  3  \n",
      "1001                  1  \n",
      "1002                  7  \n",
      "1003                  8  \n",
      "1004                  6   \n",
      "\n",
      "     Employee ID                Name Department  Age  Salary Joining Date  \\\n",
      "2000      E02001       Jason Collier  Marketing   51   55547   2015-08-24   \n",
      "2001      E02002      Rachel Chapman    Finance   38   89734   2020-11-13   \n",
      "2002      E02003       Taylor Murphy         IT   30  141579   2019-11-07   \n",
      "2003      E02004  Jeremiah Fernandez         HR   49  103360   2024-05-27   \n",
      "2004      E02005         James White      Sales   28   35455   2024-06-25   \n",
      "\n",
      "      Performance Score  \n",
      "2000                  8  \n",
      "2001                  8  \n",
      "2002                  9  \n",
      "2003                  5  \n",
      "2004                  9   \n",
      "\n",
      "     Employee ID                 Name Department  Age  Salary Joining Date  \\\n",
      "3000      E03001     Danielle Watkins    Finance   34   73064   2016-01-09   \n",
      "3001      E03002      Samantha Taylor      Sales   52  136735   2017-10-03   \n",
      "3002      E03003  Jacqueline Gonzales         HR   34   52954   2017-04-07   \n",
      "3003      E03004          David Wells      Sales   39  126872   2024-09-22   \n",
      "3004      E03005            Gina Cruz         IT   58  139120   2015-07-20   \n",
      "\n",
      "      Performance Score  \n",
      "3000                  8  \n",
      "3001                  3  \n",
      "3002                  5  \n",
      "3003                  6  \n",
      "3004                  7   \n",
      "\n",
      "     Employee ID                Name Department  Age  Salary Joining Date  \\\n",
      "4000      E04001         Marcus Ward    Finance   56   46852   2019-01-20   \n",
      "4001      E04002  Christine Martinez      Sales   45   47013   2024-02-23   \n",
      "4002      E04003    Robert Mcconnell         IT   34  115302   2018-03-02   \n",
      "4003      E04004        Alicia Smith      Sales   54   36538   2017-08-12   \n",
      "4004      E04005        Meghan Kelly         IT   36  128417   2018-01-24   \n",
      "\n",
      "      Performance Score  \n",
      "4000                 10  \n",
      "4001                 10  \n",
      "4002                  6  \n",
      "4003                  4  \n",
      "4004                  4   \n",
      "\n",
      "     Employee ID                 Name Department  Age  Salary Joining Date  \\\n",
      "5000      E05001      Denise Randolph         IT   33  100373   2015-10-13   \n",
      "5001      E05002      Joseph Hatfield      Sales   46   69101   2021-03-25   \n",
      "5002      E05003        Rhonda Reeves  Marketing   31  123884   2020-06-08   \n",
      "5003      E05004   Margaret Singleton  Marketing   43   85463   2023-10-25   \n",
      "5004      E05005  Christopher Perkins      Sales   28   78734   2023-02-19   \n",
      "\n",
      "      Performance Score  \n",
      "5000                  6  \n",
      "5001                  7  \n",
      "5002                  8  \n",
      "5003                  8  \n",
      "5004                  9   \n",
      "\n",
      "     Employee ID              Name Department  Age  Salary Joining Date  \\\n",
      "6000      E06001     Andrew Graham         HR   50  130234   2024-02-08   \n",
      "6001      E06002   Samantha Campos  Marketing   29   57692   2022-10-29   \n",
      "6002      E06003      Angela Boyle         IT   38   77049   2023-10-15   \n",
      "6003      E06004  Mallory Martinez    Finance   28  112542   2016-03-02   \n",
      "6004      E06005    Caitlin Haynes         IT   33   48721   2021-03-21   \n",
      "\n",
      "      Performance Score  \n",
      "6000                  4  \n",
      "6001                  7  \n",
      "6002                  1  \n",
      "6003                  9  \n",
      "6004                  5   \n",
      "\n",
      "     Employee ID             Name Department  Age  Salary Joining Date  \\\n",
      "7000      E07001     Joseph Jones      Sales   39   60588   2020-06-18   \n",
      "7001      E07002     Johnny Davis         IT   33   98453   2023-11-16   \n",
      "7002      E07003   Ashley Mcclure      Sales   37   57115   2018-03-26   \n",
      "7003      E07004     Kelly Bryant         HR   48   34353   2023-12-31   \n",
      "7004      E07005  Abigail Wallace         IT   57  106162   2021-09-20   \n",
      "\n",
      "      Performance Score  \n",
      "7000                  8  \n",
      "7001                  9  \n",
      "7002                  9  \n",
      "7003                  9  \n",
      "7004                  2   \n",
      "\n",
      "     Employee ID              Name Department  Age  Salary Joining Date  \\\n",
      "8000      E08001    Michael Dillon         HR   59   80702   2022-02-18   \n",
      "8001      E08002  Jonathan Roberts      Sales   23   85823   2018-09-21   \n",
      "8002      E08003      Rebecca Hess      Sales   38  113253   2022-02-27   \n",
      "8003      E08004      Anna Carroll      Sales   47   93102   2019-05-10   \n",
      "8004      E08005   Nicholas Nelson      Sales   59  128058   2024-06-02   \n",
      "\n",
      "      Performance Score  \n",
      "8000                  4  \n",
      "8001                  1  \n",
      "8002                 10  \n",
      "8003                  5  \n",
      "8004                  7   \n",
      "\n",
      "     Employee ID              Name Department  Age  Salary Joining Date  \\\n",
      "9000      E09001       Michael Lee    Finance   47  108004   2024-12-01   \n",
      "9001      E09002      Emily Bryant         IT   34   91849   2020-10-14   \n",
      "9002      E09003  Stephanie Curtis    Finance   43  110387   2023-07-13   \n",
      "9003      E09004    Jonathan Smith         IT   44   43199   2020-04-15   \n",
      "9004      E09005     David Edwards      Sales   54  127115   2024-05-14   \n",
      "\n",
      "      Performance Score  \n",
      "9000                  7  \n",
      "9001                  1  \n",
      "9002                 10  \n",
      "9003                  1  \n",
      "9004                  7   \n",
      "\n",
      "      Employee ID               Name Department  Age  Salary Joining Date  \\\n",
      "10000      E10001  Michael Maldonado         IT   58  106088   2015-10-11   \n",
      "10001      E10002   Samantha Hoffman  Marketing   43   70584   2017-08-27   \n",
      "10002      E10003        Heather Lee      Sales   28   80296   2022-01-07   \n",
      "10003      E10004       Sarah Nelson  Marketing   51   46482   2015-04-15   \n",
      "10004      E10005     Steven Sanders  Marketing   31  148337   2015-12-20   \n",
      "\n",
      "       Performance Score  \n",
      "10000                  4  \n",
      "10001                  2  \n",
      "10002                  5  \n",
      "10003                  4  \n",
      "10004                  1   \n",
      "\n",
      "      Employee ID              Name Department  Age  Salary Joining Date  \\\n",
      "11000      E11001   Ashley Williams  Marketing   26   56610   2023-07-20   \n",
      "11001      E11002  Steve Cunningham         IT   24   66981   2021-05-05   \n",
      "11002      E11003    Patricia Wolfe  Marketing   58   59309   2015-08-22   \n",
      "11003      E11004      Emily Parker    Finance   27   89388   2021-10-31   \n",
      "11004      E11005     Anthony Adams      Sales   37  128166   2022-10-08   \n",
      "\n",
      "       Performance Score  \n",
      "11000                  9  \n",
      "11001                  6  \n",
      "11002                  2  \n",
      "11003                  2  \n",
      "11004                 10   \n",
      "\n",
      "      Employee ID              Name Department  Age  Salary Joining Date  \\\n",
      "12000      E12001  Zachary Thompson  Marketing   28   68405   2018-08-06   \n",
      "12001      E12002    Nicole Gardner         HR   58   65971   2016-08-15   \n",
      "12002      E12003     Jason Mcclure  Marketing   58  105528   2015-11-06   \n",
      "12003      E12004       Joseph Wood      Sales   28   90740   2020-09-09   \n",
      "12004      E12005      Patrick Hull    Finance   43  135539   2018-08-17   \n",
      "\n",
      "       Performance Score  \n",
      "12000                  7  \n",
      "12001                 10  \n",
      "12002                  2  \n",
      "12003                  8  \n",
      "12004                  6   \n",
      "\n",
      "      Employee ID              Name Department  Age  Salary Joining Date  \\\n",
      "13000      E13001    Ashlee Sanchez      Sales   40  109665   2016-03-24   \n",
      "13001      E13002      Kristy Hurst  Marketing   46   64832   2022-03-13   \n",
      "13002      E13003    Katie Wyatt MD         HR   56   81503   2017-03-28   \n",
      "13003      E13004      Natasha Barr         HR   33   44200   2024-06-09   \n",
      "13004      E13005  Michelle Johnson  Marketing   47   56113   2022-12-15   \n",
      "\n",
      "       Performance Score  \n",
      "13000                  1  \n",
      "13001                  4  \n",
      "13002                  1  \n",
      "13003                  4  \n",
      "13004                  1   \n",
      "\n",
      "      Employee ID             Name Department  Age  Salary Joining Date  \\\n",
      "14000      E14001      Sherry Hart         HR   47   77467   2017-01-22   \n",
      "14001      E14002  Jessica Manning  Marketing   50  128041   2020-10-14   \n",
      "14002      E14003       James Bush      Sales   26   41411   2024-08-04   \n",
      "14003      E14004     Kelly Martin         IT   53  139109   2020-07-08   \n",
      "14004      E14005       Seth Jones    Finance   59   92408   2016-04-22   \n",
      "\n",
      "       Performance Score  \n",
      "14000                  3  \n",
      "14001                  7  \n",
      "14002                  3  \n",
      "14003                  9  \n",
      "14004                 10   \n",
      "\n",
      "      Employee ID                Name Department  Age  Salary Joining Date  \\\n",
      "15000      E15001     Jennifer Jordan      Sales   53  129549   2018-12-18   \n",
      "15001      E15002  Christopher Morgan         HR   42  130541   2016-12-04   \n",
      "15002      E15003     Sarah Rodriguez  Marketing   51  147307   2021-11-27   \n",
      "15003      E15004           Brad Diaz  Marketing   45   54780   2017-04-29   \n",
      "15004      E15005        James Mathis      Sales   35   89603   2021-07-04   \n",
      "\n",
      "       Performance Score  \n",
      "15000                 10  \n",
      "15001                  4  \n",
      "15002                  4  \n",
      "15003                  7  \n",
      "15004                  4   \n",
      "\n",
      "      Employee ID           Name Department  Age  Salary Joining Date  \\\n",
      "16000      E16001    Andrea Nash    Finance   59   75053   2016-10-15   \n",
      "16001      E16002    Penny Perry  Marketing   34   78984   2022-06-09   \n",
      "16002      E16003    Glen Chavez    Finance   47  109028   2017-04-20   \n",
      "16003      E16004  Michelle Leon         IT   32   37632   2015-10-02   \n",
      "16004      E16005  Michael Clark         HR   45   45387   2023-07-18   \n",
      "\n",
      "       Performance Score  \n",
      "16000                  5  \n",
      "16001                 10  \n",
      "16002                  3  \n",
      "16003                  3  \n",
      "16004                  3   \n",
      "\n",
      "      Employee ID          Name Department  Age  Salary Joining Date  \\\n",
      "17000      E17001   Jamie Ochoa         HR   27   72472   2016-12-06   \n",
      "17001      E17002  John Aguirre         HR   36  110832   2022-10-24   \n",
      "17002      E17003  Sarah Larson    Finance   56   32283   2024-03-01   \n",
      "17003      E17004   Traci Blake         HR   47  135856   2017-08-04   \n",
      "17004      E17005   Amanda Yang      Sales   48   61080   2022-08-30   \n",
      "\n",
      "       Performance Score  \n",
      "17000                  4  \n",
      "17001                  6  \n",
      "17002                  1  \n",
      "17003                  4  \n",
      "17004                  5   \n",
      "\n",
      "      Employee ID              Name Department  Age  Salary Joining Date  \\\n",
      "18000      E18001  Michael Anderson    Finance   39   31307   2018-06-12   \n",
      "18001      E18002     Travis Butler         HR   24  105922   2021-05-18   \n",
      "18002      E18003     Danielle King      Sales   34   51943   2021-09-16   \n",
      "18003      E18004       Frank Moore         IT   34  107203   2022-08-03   \n",
      "18004      E18005     Donald Morgan      Sales   50  116726   2016-07-31   \n",
      "\n",
      "       Performance Score  \n",
      "18000                  4  \n",
      "18001                  1  \n",
      "18002                  8  \n",
      "18003                  8  \n",
      "18004                  5   \n",
      "\n",
      "      Employee ID             Name Department  Age  Salary Joining Date  \\\n",
      "19000      E19001    Charles Jones    Finance   48  141182   2024-09-02   \n",
      "19001      E19002   Priscilla Hart      Sales   49  149664   2018-02-15   \n",
      "19002      E19003     Daniel Wolfe      Sales   37   44432   2024-02-21   \n",
      "19003      E19004    Jimmy Wheeler         HR   30   89895   2023-07-28   \n",
      "19004      E19005  Lauren Chambers      Sales   36   58014   2024-04-25   \n",
      "\n",
      "       Performance Score  \n",
      "19000                  7  \n",
      "19001                  9  \n",
      "19002                  8  \n",
      "19003                  3  \n",
      "19004                  8   \n",
      "\n"
     ]
    }
   ],
   "source": [
    "# reading in chunks for large files\n",
    "\n",
    "chunks = pd.read_csv('employee_data.csv', chunksize= 1000) # 1000 rows at a time\n",
    "for chunk in chunks:\n",
    "    print(chunk.head(), '\\n')"
   ]
  },
  {
   "cell_type": "code",
   "execution_count": 40,
   "metadata": {},
   "outputs": [
    {
     "name": "stdout",
     "output_type": "stream",
     "text": [
      "            Name  Salary\n",
      "0  Daniel Miller  120145\n",
      "1  Robert Taylor   37839\n",
      "2      Jose Lane  121732\n",
      "3  William Watts   68457\n",
      "4     Tracy Ward  146584\n"
     ]
    }
   ],
   "source": [
    "# read only specific cols\n",
    "\n",
    "df = pd.read_csv('employee_data.csv', usecols = ['Name', 'Salary']) # reading only Name and Salary cols\n",
    "print(df.head())"
   ]
  },
  {
   "cell_type": "markdown",
   "metadata": {},
   "source": [
    "# Using Kaggle Dataset and Doing Things"
   ]
  },
  {
   "cell_type": "code",
   "execution_count": 51,
   "metadata": {},
   "outputs": [
    {
     "name": "stdout",
     "output_type": "stream",
     "text": [
      "  show_id     type                  title         director  \\\n",
      "0      s1    Movie   Dick Johnson Is Dead  Kirsten Johnson   \n",
      "1      s2  TV Show          Blood & Water              NaN   \n",
      "2      s3  TV Show              Ganglands  Julien Leclercq   \n",
      "3      s4  TV Show  Jailbirds New Orleans              NaN   \n",
      "4      s5  TV Show           Kota Factory              NaN   \n",
      "\n",
      "                                                cast        country  \\\n",
      "0                                                NaN  United States   \n",
      "1  Ama Qamata, Khosi Ngema, Gail Mabalane, Thaban...   South Africa   \n",
      "2  Sami Bouajila, Tracy Gotoas, Samuel Jouy, Nabi...            NaN   \n",
      "3                                                NaN            NaN   \n",
      "4  Mayur More, Jitendra Kumar, Ranjan Raj, Alam K...          India   \n",
      "\n",
      "           date_added  release_year rating   duration  \\\n",
      "0  September 25, 2021          2020  PG-13     90 min   \n",
      "1  September 24, 2021          2021  TV-MA  2 Seasons   \n",
      "2  September 24, 2021          2021  TV-MA   1 Season   \n",
      "3  September 24, 2021          2021  TV-MA   1 Season   \n",
      "4  September 24, 2021          2021  TV-MA  2 Seasons   \n",
      "\n",
      "                                           listed_in  \\\n",
      "0                                      Documentaries   \n",
      "1    International TV Shows, TV Dramas, TV Mysteries   \n",
      "2  Crime TV Shows, International TV Shows, TV Act...   \n",
      "3                             Docuseries, Reality TV   \n",
      "4  International TV Shows, Romantic TV Shows, TV ...   \n",
      "\n",
      "                                         description  \n",
      "0  As her father nears the end of his life, filmm...  \n",
      "1  After crossing paths at a party, a Cape Town t...  \n",
      "2  To protect his family from a powerful drug lor...  \n",
      "3  Feuds, flirtations and toilet talk go down amo...  \n",
      "4  In a city of coaching centers known to train I...  \n"
     ]
    }
   ],
   "source": [
    "# using the downloaded dataset from kaggle\n",
    "\n",
    "dataset = pd.read_csv('netflix_titles.csv')\n",
    "print(dataset.head())"
   ]
  },
  {
   "cell_type": "code",
   "execution_count": 55,
   "metadata": {},
   "outputs": [
    {
     "name": "stdout",
     "output_type": "stream",
     "text": [
      "Index(['show_id', 'type', 'title', 'director', 'cast', 'country', 'date_added',\n",
      "       'release_year', 'rating', 'duration', 'listed_in', 'description'],\n",
      "      dtype='object')\n",
      "show_id         object\n",
      "type            object\n",
      "title           object\n",
      "director        object\n",
      "cast            object\n",
      "country         object\n",
      "date_added      object\n",
      "release_year     int64\n",
      "rating          object\n",
      "duration        object\n",
      "listed_in       object\n",
      "description     object\n",
      "dtype: object\n"
     ]
    }
   ],
   "source": [
    "print(dataset.columns) # checking cols\n",
    "print(dataset.dtypes) # checking data types"
   ]
  },
  {
   "cell_type": "code",
   "execution_count": 60,
   "metadata": {},
   "outputs": [
    {
     "name": "stdout",
     "output_type": "stream",
     "text": [
      "      show_id   type  title  director   cast  country  date_added  \\\n",
      "0       False  False  False     False   True    False       False   \n",
      "1       False  False  False      True  False    False       False   \n",
      "2       False  False  False     False  False     True       False   \n",
      "3       False  False  False      True   True     True       False   \n",
      "4       False  False  False      True  False    False       False   \n",
      "...       ...    ...    ...       ...    ...      ...         ...   \n",
      "8802    False  False  False     False  False    False       False   \n",
      "8803    False  False  False      True   True     True       False   \n",
      "8804    False  False  False     False  False    False       False   \n",
      "8805    False  False  False     False  False    False       False   \n",
      "8806    False  False  False     False  False    False       False   \n",
      "\n",
      "      release_year  rating  duration  listed_in  description  \n",
      "0            False   False     False      False        False  \n",
      "1            False   False     False      False        False  \n",
      "2            False   False     False      False        False  \n",
      "3            False   False     False      False        False  \n",
      "4            False   False     False      False        False  \n",
      "...            ...     ...       ...        ...          ...  \n",
      "8802         False   False     False      False        False  \n",
      "8803         False   False     False      False        False  \n",
      "8804         False   False     False      False        False  \n",
      "8805         False   False     False      False        False  \n",
      "8806         False   False     False      False        False  \n",
      "\n",
      "[8807 rows x 12 columns]\n"
     ]
    }
   ],
   "source": [
    "# check missing values\n",
    "\n",
    "print(dataset.isnull())\n"
   ]
  },
  {
   "cell_type": "code",
   "execution_count": 61,
   "metadata": {},
   "outputs": [
    {
     "name": "stdout",
     "output_type": "stream",
     "text": [
      "show_id            0\n",
      "type               0\n",
      "title              0\n",
      "director        2634\n",
      "cast             825\n",
      "country          831\n",
      "date_added        10\n",
      "release_year       0\n",
      "rating             4\n",
      "duration           3\n",
      "listed_in          0\n",
      "description        0\n",
      "dtype: int64\n"
     ]
    }
   ],
   "source": [
    "missing_values = dataset.isnull().sum() # sum of missing values\n",
    "print(missing_values)"
   ]
  }
 ],
 "metadata": {
  "kernelspec": {
   "display_name": ".venv",
   "language": "python",
   "name": "python3"
  },
  "language_info": {
   "codemirror_mode": {
    "name": "ipython",
    "version": 3
   },
   "file_extension": ".py",
   "mimetype": "text/x-python",
   "name": "python",
   "nbconvert_exporter": "python",
   "pygments_lexer": "ipython3",
   "version": "3.11.9"
  }
 },
 "nbformat": 4,
 "nbformat_minor": 2
}
